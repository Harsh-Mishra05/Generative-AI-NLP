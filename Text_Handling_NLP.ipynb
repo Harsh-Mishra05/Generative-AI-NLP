{
 "cells": [
  {
   "cell_type": "code",
   "execution_count": 3,
   "id": "3803fd57-14ba-4d6e-bbdf-02b69c5b7a39",
   "metadata": {},
   "outputs": [
    {
     "name": "stdout",
     "output_type": "stream",
     "text": [
      "NLP stands for Natural Language Processing\n"
     ]
    }
   ],
   "source": [
    "# 1. Print an f-string that displays NLP stands for Natural Language Processing using the variables provided.\n",
    "NLP = \"Natural Language Processing\"\n",
    "print(f\"NLP stands for {NLP}\")"
   ]
  },
  {
   "cell_type": "code",
   "execution_count": null,
   "id": "f8703aea-435d-4466-8221-631b1501b46f",
   "metadata": {},
   "outputs": [],
   "source": [
    "# 2. Create a file in the current working directory called contacts.txt by running the cell below."
   ]
  },
  {
   "cell_type": "code",
   "execution_count": 2,
   "id": "41b8eae7-1bb6-4e17-b0d0-bbb1421146dd",
   "metadata": {},
   "outputs": [
    {
     "name": "stdout",
     "output_type": "stream",
     "text": [
      "Writing contacts.txt\n"
     ]
    }
   ],
   "source": [
    "%%writefile contacts.txt\n",
    "create a work file"
   ]
  },
  {
   "cell_type": "code",
   "execution_count": 4,
   "id": "ec25ebd7-082a-4b7b-8ba8-cb8952094068",
   "metadata": {},
   "outputs": [
    {
     "name": "stdout",
     "output_type": "stream",
     "text": [
      "create a work file\n",
      "\n"
     ]
    }
   ],
   "source": [
    "# 3. Open the file and use .read() to save the contents of the file to a string called fields. Make sure the file is closed at the end.\n",
    "with open(\"contacts.txt\", \"r\") as f:\n",
    "    fields = f.read()\n",
    "print(fields)"
   ]
  },
  {
   "cell_type": "code",
   "execution_count": 22,
   "id": "8b62c680-474b-4678-95f7-bb4efb6437ac",
   "metadata": {},
   "outputs": [
    {
     "name": "stdout",
     "output_type": "stream",
     "text": [
      "AUTHORS:  \n",
      "Amy Baker, Finance Chair, x345, abaker@ourcompany.com  \n",
      "Chris Donaldson, Accounting Dir., x621, cdonaldson@ourcompany.com  \n",
      "Erin Freeman, Sr. VP, x879, efreeman@ourcompany.com  \n"
     ]
    }
   ],
   "source": [
    "# 4. Use PyPDF2 to open the file Business_Proposal.pdf. Extract the text of page 2.   \n",
    "\n",
    "import PyPDF2\n",
    "\n",
    "pdfFile = open('Business_Proposal (1).pdf', 'rb')\n",
    "pdfReader = PyPDF2.PdfReader(pdfFile)\n",
    "pageObj = pdfReader.pages[1]\n",
    "page_two_text = pageObj.extract_text()\n",
    "print(page_two_text)"
   ]
  },
  {
   "cell_type": "code",
   "execution_count": 23,
   "id": "46cd56a7-e510-469a-971c-3ea9ba8e5c57",
   "metadata": {},
   "outputs": [],
   "source": [
    "f.close()"
   ]
  },
  {
   "cell_type": "code",
   "execution_count": 20,
   "id": "c36d1765-73cc-469b-b69a-3381c2226fcd",
   "metadata": {},
   "outputs": [
    {
     "name": "stdout",
     "output_type": "stream",
     "text": [
      "create a work file\n",
      "AUTHORS:  \n",
      "Amy Baker, Finance Chair, x345, abaker@ourcompany.com  \n",
      "Chris Donaldson, Accounting Dir., x621, cdonaldson@ourcompany.com  \n",
      "Erin Freeman, Sr. VP, x879, efreeman@ourcompany.com  AUTHORS:  \n",
      "Amy Baker, Finance Chair, x345, abaker@ourcompany.com  \n",
      "Chris Donaldson, Accounting Dir., x621, cdonaldson@ourcompany.com  \n",
      "Erin Freeman, Sr. VP, x879, efreeman@ourcompany.com  AUTHORS:  \n",
      "Amy Baker, Finance Chair, x345, abaker@ourcompany.com  \n",
      "Chris Donaldson, Accounting Dir., x621, cdonaldson@ourcompany.com  \n",
      "Erin Freeman, Sr. VP, x879, efreeman@ourcompany.com  AUTHORS:  \n",
      "Amy Baker, Finance Chair, x345, abaker@ourcompany.com  \n",
      "Chris Donaldson, Accounting Dir., x621, cdonaldson@ourcompany.com  \n",
      "Erin Freeman, Sr. VP, x879, efreeman@ourcompany.com  AUTHORS:  \n",
      "Amy Baker, Finance Chair, x345, abaker@ourcompany.com  \n",
      "Chris Donaldson, Accounting Dir., x621, cdonaldson@ourcompany.com  \n",
      "Erin Freeman, Sr. VP, x879, efreeman@ourcompany.com  AUTHORS:  \n",
      "Amy Baker, Finance Chair, x345, abaker@ourcompany.com  \n",
      "Chris Donaldson, Accounting Dir., x621, cdonaldson@ourcompany.com  \n",
      "Erin Freeman, Sr. VP, x879, efreeman@ourcompany.com  AUTHORS:  \n",
      "Amy Baker, Finance Chair, x345, abaker@ourcompany.com  \n",
      "Chris Donaldson, Accounting Dir., x621, cdonaldson@ourcompany.com  \n",
      "Erin Freeman, Sr. VP, x879, efreeman@ourcompany.com  AUTHORS:  \n",
      "Amy Baker, Finance Chair, x345, abaker@ourcompany.com  \n",
      "Chris Donaldson, Accounting Dir., x621, cdonaldson@ourcompany.com  \n",
      "Erin Freeman, Sr. VP, x879, efreeman@ourcompany.com  AUTHORS:  \n",
      "Amy Baker, Finance Chair, x345, abaker@ourcompany.com  \n",
      "Chris Donaldson, Accounting Dir., x621, cdonaldson@ourcompany.com  \n",
      "Erin Freeman, Sr. VP, x879, efreeman@ourcompany.com  AUTHORS:  \n",
      "Amy Baker, Finance Chair, x345, abaker@ourcompany.com  \n",
      "Chris Donaldson, Accounting Dir., x621, cdonaldson@ourcompany.com  \n",
      "Erin Freeman, Sr. VP, x879, efreeman@ourcompany.com  AUTHORS:  \n",
      "Amy Baker, Finance Chair, x345, abaker@ourcompany.com  \n",
      "Chris Donaldson, Accounting Dir., x621, cdonaldson@ourcompany.com  \n",
      "Erin Freeman, Sr. VP, x879, efreeman@ourcompany.com  AUTHORS:  \n",
      "Amy Baker, Finance Chair, x345, abaker@ourcompany.com  \n",
      "Chris Donaldson, Accounting Dir., x621, cdonaldson@ourcompany.com  \n",
      "Erin Freeman, Sr. VP, x879, efreeman@ourcompany.com  \n"
     ]
    }
   ],
   "source": [
    "# \n",
    "with open(\"contacts.txt\", \"a+\") as k: #open the file with append and read permissions\n",
    "    k.write(page_two_text)\n",
    "    k.seek(0)\n",
    "    print(k.read()) #print the contents of the file."
   ]
  },
  {
   "cell_type": "code",
   "execution_count": 21,
   "id": "cdc4754e-c3e7-4706-acd4-afbd41b8ee85",
   "metadata": {},
   "outputs": [
    {
     "data": {
      "text/plain": [
       "<re.Match object; span=(43, 64), match='abaker@ourcompany.com'>"
      ]
     },
     "execution_count": 21,
     "metadata": {},
     "output_type": "execute_result"
    }
   ],
   "source": [
    "# 6. Using the page_two_text variable created above, extract any email addresses that were contained in the file Business_Proposal.pdf.\n",
    "\n",
    "import re\n",
    "\n",
    "Email_list = r'\\w+@\\w+.\\w{3}'\n",
    "\n",
    "re.search(Email_list, page_two_text)"
   ]
  },
  {
   "cell_type": "code",
   "execution_count": null,
   "id": "7446f4fa-e975-4215-aaf5-b7ae303cf3de",
   "metadata": {},
   "outputs": [],
   "source": []
  }
 ],
 "metadata": {
  "kernelspec": {
   "display_name": "Python 3 (ipykernel)",
   "language": "python",
   "name": "python3"
  },
  "language_info": {
   "codemirror_mode": {
    "name": "ipython",
    "version": 3
   },
   "file_extension": ".py",
   "mimetype": "text/x-python",
   "name": "python",
   "nbconvert_exporter": "python",
   "pygments_lexer": "ipython3",
   "version": "3.12.7"
  }
 },
 "nbformat": 4,
 "nbformat_minor": 5
}
